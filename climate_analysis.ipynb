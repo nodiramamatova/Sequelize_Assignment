{
 "cells": [
  {
   "cell_type": "markdown",
   "metadata": {},
   "source": [
    "## Step 3 - Climate Analysis and Exploration\n",
    "\n",
    "You are now ready to use Python and SQLAlchemy to do basic climate analysis and data exploration on your new weather station tables. All of the following analysis should be completed using SQLAlchemy ORM queries, Pandas, and Matplotlib.\n",
    "\n",
    "* Create a Jupyter Notebook file called `climate_analysis.ipynb` and use it to complete your climate analysis and data exporation.\n",
    "\n",
    "* Choose a start date and end date for your trip. Make sure that your vacation range is approximately 3-15 days total.\n",
    "\n",
    "* Use SQLAlchemy `create_engine` to connect to your sqlite database.\n",
    "\n",
    "* Use SQLAlchemy `automap_base()` to reflect your tables into classes and save a reference to those classes called `Station` and `Measurement`."
   ]
  },
  {
   "cell_type": "code",
   "execution_count": 1,
   "metadata": {
    "collapsed": true
   },
   "outputs": [],
   "source": [
    "#Dependencies\n",
    "import pandas as pd\n",
    "import numpy as np\n",
    "import datetime as dt\n",
    "import matplotlib.pyplot as plt\n",
    "import matplotlib\n",
    "from matplotlib import style\n",
    "style.use('seaborn')\n",
    "# Python SQL toolkit and Object Relational Mapper\n",
    "import sqlalchemy\n",
    "from sqlalchemy.ext.automap import automap_base\n",
    "from sqlalchemy.orm import Session\n",
    "from sqlalchemy import create_engine, inspect, func\n",
    "from sqlalchemy import Column, Integer, String, Numeric, Text, Float"
   ]
  },
  {
   "cell_type": "code",
   "execution_count": 2,
   "metadata": {
    "collapsed": true
   },
   "outputs": [],
   "source": [
    "# Create engine using the `demographics.sqlite` database file\n",
    "engine = create_engine(\"sqlite:///hawaii.sqlite\")"
   ]
  },
  {
   "cell_type": "code",
   "execution_count": 3,
   "metadata": {
    "collapsed": true
   },
   "outputs": [],
   "source": [
    "# Declare a Base using `automap_base()`\n",
    "Base = automap_base()"
   ]
  },
  {
   "cell_type": "code",
   "execution_count": 4,
   "metadata": {
    "collapsed": true
   },
   "outputs": [],
   "source": [
    "# Use the Base class to reflect the database tables\n",
    "Base.prepare(engine, reflect=True)"
   ]
  },
  {
   "cell_type": "code",
   "execution_count": 5,
   "metadata": {
    "collapsed": false
   },
   "outputs": [
    {
     "data": {
      "text/plain": [
       "['measurements', 'stations']"
      ]
     },
     "execution_count": 5,
     "metadata": {},
     "output_type": "execute_result"
    }
   ],
   "source": [
    "# Print all of the classes mapped to the Base\n",
    "Base.classes.keys()"
   ]
  },
  {
   "cell_type": "code",
   "execution_count": 6,
   "metadata": {
    "collapsed": false
   },
   "outputs": [
    {
     "data": {
      "text/plain": [
       "['measurements', 'stations']"
      ]
     },
     "execution_count": 6,
     "metadata": {},
     "output_type": "execute_result"
    }
   ],
   "source": [
    "inspector = inspect(engine)\n",
    "inspector.get_table_names()"
   ]
  },
  {
   "cell_type": "code",
   "execution_count": 7,
   "metadata": {
    "collapsed": false
   },
   "outputs": [
    {
     "data": {
      "text/plain": [
       "[(1, 'USC00519397', '2010-01-01', 0.08, 65),\n",
       " (2, 'USC00519397', '2010-01-02', 0.0, 63),\n",
       " (3, 'USC00519397', '2010-01-03', 0.0, 74),\n",
       " (4, 'USC00519397', '2010-01-04', 0.0, 76),\n",
       " (5, 'USC00519397', '2010-01-07', 0.06, 70)]"
      ]
     },
     "execution_count": 7,
     "metadata": {},
     "output_type": "execute_result"
    }
   ],
   "source": [
    "engine.execute('SELECT * FROM measurements LIMIT 5').fetchall()"
   ]
  },
  {
   "cell_type": "code",
   "execution_count": 8,
   "metadata": {
    "collapsed": true
   },
   "outputs": [],
   "source": [
    "# Assign the Measurements class to a variable called `Measurements`\n",
    "Measurements = Base.classes.measurements"
   ]
  },
  {
   "cell_type": "code",
   "execution_count": 9,
   "metadata": {
    "collapsed": true
   },
   "outputs": [],
   "source": [
    "# Assign the Stations class to a variable called `Stations`\n",
    "Stations = Base.classes.stations"
   ]
  },
  {
   "cell_type": "code",
   "execution_count": 10,
   "metadata": {
    "collapsed": true
   },
   "outputs": [],
   "source": [
    "# Create a session\n",
    "session = Session(engine)"
   ]
  },
  {
   "cell_type": "markdown",
   "metadata": {},
   "source": [
    "### Precipitation Analysis\n",
    "\n",
    "* Design a query to retrieve the last 12 months of precipitation data.\n",
    "\n",
    "* Select only the `date` and `prcp` values.\n",
    "\n",
    "* Load the query results into a Pandas DataFrame and set the index to the date column.\n",
    "\n",
    "* Plot the results using the DataFrame `plot` method.\n",
    "\n",
    "* Use Pandas to print the summary statistics for the precipitation data."
   ]
  },
  {
   "cell_type": "code",
   "execution_count": 11,
   "metadata": {
    "collapsed": false
   },
   "outputs": [
    {
     "name": "stdout",
     "output_type": "stream",
     "text": [
      "('2017-08-23',)\n"
     ]
    }
   ],
   "source": [
    "# Latest Date\n",
    "last_date =session.query(Measurements.date).order_by(Measurements.date.desc()).first()\n",
    "print(last_date)"
   ]
  },
  {
   "cell_type": "code",
   "execution_count": 12,
   "metadata": {
    "collapsed": false
   },
   "outputs": [
    {
     "data": {
      "text/plain": [
       "[(18103)]"
      ]
     },
     "execution_count": 12,
     "metadata": {},
     "output_type": "execute_result"
    }
   ],
   "source": [
    "# Total dates\n",
    "session.query(func.count(Measurements.date)).all()"
   ]
  },
  {
   "cell_type": "code",
   "execution_count": 13,
   "metadata": {
    "collapsed": false
   },
   "outputs": [
    {
     "name": "stdout",
     "output_type": "stream",
     "text": [
      "2016-08-23\n"
     ]
    }
   ],
   "source": [
    "#Time Delta\n",
    "# Query for  1 year before last_date using the datetime library\n",
    "year_before_date = dt.date(2017, 8, 23) - dt.timedelta(days=365)\n",
    "print(year_before_date)"
   ]
  },
  {
   "cell_type": "code",
   "execution_count": 14,
   "metadata": {
    "collapsed": true
   },
   "outputs": [],
   "source": [
    "# query to retrieve the last 12 months of precipitation data\n",
    "precipitation = session.query(Measurements.date, Measurements.prcp).filter(\n",
    "                Measurements.date > year_before_date).order_by(Measurements.date).all()"
   ]
  },
  {
   "cell_type": "code",
   "execution_count": 15,
   "metadata": {
    "collapsed": false
   },
   "outputs": [
    {
     "data": {
      "text/html": [
       "<div>\n",
       "<style scoped>\n",
       "    .dataframe tbody tr th:only-of-type {\n",
       "        vertical-align: middle;\n",
       "    }\n",
       "\n",
       "    .dataframe tbody tr th {\n",
       "        vertical-align: top;\n",
       "    }\n",
       "\n",
       "    .dataframe thead th {\n",
       "        text-align: right;\n",
       "    }\n",
       "</style>\n",
       "<table border=\"1\" class=\"dataframe\">\n",
       "  <thead>\n",
       "    <tr style=\"text-align: right;\">\n",
       "      <th></th>\n",
       "      <th>date</th>\n",
       "      <th>prcp</th>\n",
       "    </tr>\n",
       "  </thead>\n",
       "  <tbody>\n",
       "    <tr>\n",
       "      <th>0</th>\n",
       "      <td>2016-08-24</td>\n",
       "      <td>0.08</td>\n",
       "    </tr>\n",
       "    <tr>\n",
       "      <th>1</th>\n",
       "      <td>2016-08-24</td>\n",
       "      <td>2.15</td>\n",
       "    </tr>\n",
       "    <tr>\n",
       "      <th>2</th>\n",
       "      <td>2016-08-24</td>\n",
       "      <td>2.28</td>\n",
       "    </tr>\n",
       "    <tr>\n",
       "      <th>3</th>\n",
       "      <td>2016-08-24</td>\n",
       "      <td>1.22</td>\n",
       "    </tr>\n",
       "    <tr>\n",
       "      <th>4</th>\n",
       "      <td>2016-08-24</td>\n",
       "      <td>2.15</td>\n",
       "    </tr>\n",
       "  </tbody>\n",
       "</table>\n",
       "</div>"
      ],
      "text/plain": [
       "         date  prcp\n",
       "0  2016-08-24  0.08\n",
       "1  2016-08-24  2.15\n",
       "2  2016-08-24  2.28\n",
       "3  2016-08-24  1.22\n",
       "4  2016-08-24  2.15"
      ]
     },
     "execution_count": 15,
     "metadata": {},
     "output_type": "execute_result"
    }
   ],
   "source": [
    "#Load the query results into a Pandas DataFrame\n",
    "precipitation_df = pd.DataFrame(precipitation)\n",
    "precipitation_df.head()"
   ]
  },
  {
   "cell_type": "code",
   "execution_count": 16,
   "metadata": {
    "collapsed": false
   },
   "outputs": [
    {
     "data": {
      "text/html": [
       "<div>\n",
       "<style scoped>\n",
       "    .dataframe tbody tr th:only-of-type {\n",
       "        vertical-align: middle;\n",
       "    }\n",
       "\n",
       "    .dataframe tbody tr th {\n",
       "        vertical-align: top;\n",
       "    }\n",
       "\n",
       "    .dataframe thead th {\n",
       "        text-align: right;\n",
       "    }\n",
       "</style>\n",
       "<table border=\"1\" class=\"dataframe\">\n",
       "  <thead>\n",
       "    <tr style=\"text-align: right;\">\n",
       "      <th></th>\n",
       "      <th>prcp</th>\n",
       "    </tr>\n",
       "    <tr>\n",
       "      <th>date</th>\n",
       "      <th></th>\n",
       "    </tr>\n",
       "  </thead>\n",
       "  <tbody>\n",
       "    <tr>\n",
       "      <th>2016-08-24</th>\n",
       "      <td>0.08</td>\n",
       "    </tr>\n",
       "    <tr>\n",
       "      <th>2016-08-24</th>\n",
       "      <td>2.15</td>\n",
       "    </tr>\n",
       "    <tr>\n",
       "      <th>2016-08-24</th>\n",
       "      <td>2.28</td>\n",
       "    </tr>\n",
       "    <tr>\n",
       "      <th>2016-08-24</th>\n",
       "      <td>1.22</td>\n",
       "    </tr>\n",
       "    <tr>\n",
       "      <th>2016-08-24</th>\n",
       "      <td>2.15</td>\n",
       "    </tr>\n",
       "  </tbody>\n",
       "</table>\n",
       "</div>"
      ],
      "text/plain": [
       "            prcp\n",
       "date            \n",
       "2016-08-24  0.08\n",
       "2016-08-24  2.15\n",
       "2016-08-24  2.28\n",
       "2016-08-24  1.22\n",
       "2016-08-24  2.15"
      ]
     },
     "execution_count": 16,
     "metadata": {},
     "output_type": "execute_result"
    }
   ],
   "source": [
    "# set the index to the date column.\n",
    "precipitation_df.set_index(\"date\").head()"
   ]
  },
  {
   "cell_type": "code",
   "execution_count": 17,
   "metadata": {
    "collapsed": false
   },
   "outputs": [
    {
     "data": {
      "image/png": "[encoded data removed]",
      "text/plain": [
       "<matplotlib.figure.Figure at 0x10b2aba58>"
      ]
     },
     "metadata": {},
     "output_type": "display_data"
    }
   ],
   "source": [
    "# Plot the results using the DataFrame `plot` method.\n",
    "precipitation_df.plot('date', 'prcp')\n",
    "plt.xlabel(\"Date\")\n",
    "plt.ylabel(\"Precipitation\")\n",
    "plt.legend([\"Precipitation\"])\n",
    "plt.xticks(rotation=45)\n",
    "plt.title(\"Honolulu Precipitation from 2016-08-24 to 2017-08-23\")\n",
    "plt.tight_layout()\n",
    "plt.show()"
   ]
  },
  {
   "cell_type": "code",
   "execution_count": 18,
   "metadata": {
    "collapsed": false
   },
   "outputs": [
    {
     "data": {
      "text/html": [
       "<div>\n",
       "<style scoped>\n",
       "    .dataframe tbody tr th:only-of-type {\n",
       "        vertical-align: middle;\n",
       "    }\n",
       "\n",
       "    .dataframe tbody tr th {\n",
       "        vertical-align: top;\n",
       "    }\n",
       "\n",
       "    .dataframe thead th {\n",
       "        text-align: right;\n",
       "    }\n",
       "</style>\n",
       "<table border=\"1\" class=\"dataframe\">\n",
       "  <thead>\n",
       "    <tr style=\"text-align: right;\">\n",
       "      <th></th>\n",
       "      <th>prcp</th>\n",
       "    </tr>\n",
       "  </thead>\n",
       "  <tbody>\n",
       "    <tr>\n",
       "      <th>count</th>\n",
       "      <td>2015.000000</td>\n",
       "    </tr>\n",
       "    <tr>\n",
       "      <th>mean</th>\n",
       "      <td>0.176462</td>\n",
       "    </tr>\n",
       "    <tr>\n",
       "      <th>std</th>\n",
       "      <td>0.460288</td>\n",
       "    </tr>\n",
       "    <tr>\n",
       "      <th>min</th>\n",
       "      <td>0.000000</td>\n",
       "    </tr>\n",
       "    <tr>\n",
       "      <th>25%</th>\n",
       "      <td>0.000000</td>\n",
       "    </tr>\n",
       "    <tr>\n",
       "      <th>50%</th>\n",
       "      <td>0.020000</td>\n",
       "    </tr>\n",
       "    <tr>\n",
       "      <th>75%</th>\n",
       "      <td>0.130000</td>\n",
       "    </tr>\n",
       "    <tr>\n",
       "      <th>max</th>\n",
       "      <td>6.700000</td>\n",
       "    </tr>\n",
       "  </tbody>\n",
       "</table>\n",
       "</div>"
      ],
      "text/plain": [
       "              prcp\n",
       "count  2015.000000\n",
       "mean      0.176462\n",
       "std       0.460288\n",
       "min       0.000000\n",
       "25%       0.000000\n",
       "50%       0.020000\n",
       "75%       0.130000\n",
       "max       6.700000"
      ]
     },
     "execution_count": 18,
     "metadata": {},
     "output_type": "execute_result"
    }
   ],
   "source": [
    "#Use Pandas to print the summary statistics for the precipitation data.\n",
    "precipitation_df.describe()"
   ]
  },
  {
   "cell_type": "markdown",
   "metadata": {},
   "source": [
    "### Station Analysis\n",
    "\n",
    "* Design a query to calculate the total number of stations.\n",
    "\n",
    "* Design a query to find the most active stations.\n",
    "\n",
    "  * List the stations and observation counts in descending order\n",
    "\n",
    "  * Which station has the highest number of observations?\n",
    "\n",
    "* Design a query to retrieve the last 12 months of temperature observation data (tobs).\n",
    "\n",
    "  * Filter by the station with the highest number of observations.\n",
    "\n",
    "  * Plot the results as a histogram with `bins=12`."
   ]
  },
  {
   "cell_type": "code",
   "execution_count": 19,
   "metadata": {
    "collapsed": false
   },
   "outputs": [
    {
     "data": {
      "text/plain": [
       "9"
      ]
     },
     "execution_count": 19,
     "metadata": {},
     "output_type": "execute_result"
    }
   ],
   "source": [
    "#Design a query to calculate the total number of stations.\n",
    "stations_count = session.query(Measurements).group_by(Measurements.station).count()\n",
    "stations_count"
   ]
  },
  {
   "cell_type": "code",
   "execution_count": 20,
   "metadata": {
    "collapsed": false
   },
   "outputs": [
    {
     "name": "stdout",
     "output_type": "stream",
     "text": [
      "Most active station was:  USC00519281 Temperature observations count:  2772\n"
     ]
    }
   ],
   "source": [
    "#Design a query to find the most active stations.\n",
    "most_active_stations = session.query(Measurements.station, func.count(Measurements.tobs)).group_by(\n",
    "                       Measurements.station).order_by(func.count(Measurements.tobs).desc()).all()\n",
    "most_active_st = most_active_stations[0][0]\n",
    "most_active_st_obs = most_active_stations[0][1]\n",
    "print(\"Most active station was: \", most_active_st, \"Temperature observations count: \", most_active_st_obs)"
   ]
  },
  {
   "cell_type": "code",
   "execution_count": 21,
   "metadata": {
    "collapsed": false
   },
   "outputs": [
    {
     "name": "stdout",
     "output_type": "stream",
     "text": [
      "Station  USC00519281 had  2772 temperature observations\n",
      "Station  USC00513117 had  2696 temperature observations\n",
      "Station  USC00519397 had  2685 temperature observations\n",
      "Station  USC00519523 had  2572 temperature observations\n",
      "Station  USC00516128 had  2484 temperature observations\n",
      "Station  USC00514830 had  1937 temperature observations\n",
      "Station  USC00511918 had  1932 temperature observations\n",
      "Station  USC00517948 had  683 temperature observations\n",
      "Station  USC00518838 had  342 temperature observations\n"
     ]
    }
   ],
   "source": [
    "#List the stations and observation counts in descending order\n",
    "for station, count in most_active_stations:\n",
    "    print(\"Station \", station, \"had \", count,\"temperature observations\")"
   ]
  },
  {
   "cell_type": "code",
   "execution_count": 22,
   "metadata": {
    "collapsed": true
   },
   "outputs": [],
   "source": [
    "#Design a query to retrieve the last 12 months of temperature observation data (tobs).\n",
    "# Filter by the station with the highest number of observations.\n",
    "last_year_temp_obs = session.query(Measurements.station, Measurements.date, Measurements.tobs).filter(\n",
    "                  Measurements.station == most_active_st).filter(\n",
    "                  Measurements.date > year_before_date).order_by(Measurements.date).all()\n",
    "    "
   ]
  },
  {
   "cell_type": "code",
   "execution_count": 23,
   "metadata": {
    "collapsed": false
   },
   "outputs": [
    {
     "data": {
      "text/html": [
       "<div>\n",
       "<style scoped>\n",
       "    .dataframe tbody tr th:only-of-type {\n",
       "        vertical-align: middle;\n",
       "    }\n",
       "\n",
       "    .dataframe tbody tr th {\n",
       "        vertical-align: top;\n",
       "    }\n",
       "\n",
       "    .dataframe thead th {\n",
       "        text-align: right;\n",
       "    }\n",
       "</style>\n",
       "<table border=\"1\" class=\"dataframe\">\n",
       "  <thead>\n",
       "    <tr style=\"text-align: right;\">\n",
       "      <th></th>\n",
       "      <th>station</th>\n",
       "      <th>date</th>\n",
       "      <th>tobs</th>\n",
       "    </tr>\n",
       "  </thead>\n",
       "  <tbody>\n",
       "    <tr>\n",
       "      <th>0</th>\n",
       "      <td>USC00519281</td>\n",
       "      <td>2016-08-24</td>\n",
       "      <td>77</td>\n",
       "    </tr>\n",
       "    <tr>\n",
       "      <th>1</th>\n",
       "      <td>USC00519281</td>\n",
       "      <td>2016-08-25</td>\n",
       "      <td>80</td>\n",
       "    </tr>\n",
       "    <tr>\n",
       "      <th>2</th>\n",
       "      <td>USC00519281</td>\n",
       "      <td>2016-08-26</td>\n",
       "      <td>80</td>\n",
       "    </tr>\n",
       "    <tr>\n",
       "      <th>3</th>\n",
       "      <td>USC00519281</td>\n",
       "      <td>2016-08-27</td>\n",
       "      <td>75</td>\n",
       "    </tr>\n",
       "    <tr>\n",
       "      <th>4</th>\n",
       "      <td>USC00519281</td>\n",
       "      <td>2016-08-28</td>\n",
       "      <td>73</td>\n",
       "    </tr>\n",
       "  </tbody>\n",
       "</table>\n",
       "</div>"
      ],
      "text/plain": [
       "       station        date  tobs\n",
       "0  USC00519281  2016-08-24    77\n",
       "1  USC00519281  2016-08-25    80\n",
       "2  USC00519281  2016-08-26    80\n",
       "3  USC00519281  2016-08-27    75\n",
       "4  USC00519281  2016-08-28    73"
      ]
     },
     "execution_count": 23,
     "metadata": {},
     "output_type": "execute_result"
    }
   ],
   "source": [
    "\n",
    "last_year_temp_df = pd.DataFrame(last_year_temp_obs)\n",
    "last_year_temp_df.head()"
   ]
  },
  {
   "cell_type": "code",
   "execution_count": 24,
   "metadata": {
    "collapsed": false
   },
   "outputs": [
    {
     "data": {
      "image/png": "[encoded data removed]",
      "text/plain": [
       "<matplotlib.figure.Figure at 0x110d24438>"
      ]
     },
     "metadata": {},
     "output_type": "display_data"
    }
   ],
   "source": [
    "#Plot the results as a histogram with `bins=12`.\n",
    "plt.hist(last_year_temp_df['tobs'],12)\n",
    "plt.ylabel(\"Frequency\")\n",
    "plt.legend([\"tobs\"])\n",
    "plt.title(\"Temperature observations for Station \" + most_active_st + \"for time period 8/24/2016 to 8/23/2017\" )\n",
    "plt.show()"
   ]
  },
  {
   "cell_type": "markdown",
   "metadata": {},
   "source": [
    "### Temperature Analysis\n",
    "\n",
    "* Write a function called `calc_temps` that will accept a start date and end date in the format `%Y-%m-%d` and return the minimum, average, and maximum temperatures for that range of dates.\n",
    "\n",
    "* Use the `calc_temps` function to calculate the min, avg, and max temperatures for your trip using the matching dates from the previous year (i.e. use \"2017-01-01\" if your trip start date was \"2018-01-01\")\n",
    "\n",
    "* Plot the min, avg, and max temperature from your previous query as a bar chart.\n",
    "\n",
    "  * Use the average temperature as the bar height.\n",
    "\n",
    "  * Use the peak-to-peak (tmax-tmin) value as the y error bar (yerr).\n"
   ]
  },
  {
   "cell_type": "code",
   "execution_count": 25,
   "metadata": {
    "collapsed": false
   },
   "outputs": [
    {
     "name": "stdout",
     "output_type": "stream",
     "text": [
      "[(65, 73.59638554216868, 81)]\n"
     ]
    }
   ],
   "source": [
    "#Write a function called calc_temps that will accept a start date and end date in the format %Y-%m-%d and \n",
    "#return the minimum, average, and maximum temperatures for that range of dates.\n",
    "def calc_temps(start_date, end_date):\n",
    "    max_min_avg_temp = session.query(\n",
    "        func.min(Measurements.tobs), func.avg(Measurements.tobs), func.max(Measurements.tobs)).filter(\n",
    "        Measurements.date > start_date).filter(Measurements.date < end_date).all()\n",
    "    return max_min_avg_temp\n",
    "test_avg = calc_temps('2016-05-05', '2016-06-06')\n",
    "print(test_avg)\n",
    "               "
   ]
  },
  {
   "cell_type": "code",
   "execution_count": 26,
   "metadata": {
    "collapsed": false
   },
   "outputs": [
    {
     "name": "stdout",
     "output_type": "stream",
     "text": [
      "[(70, 78.6, 84)]\n",
      "1\n"
     ]
    }
   ],
   "source": [
    "#Use the `calc_temps` function to calculate the min, avg, and max temperatures for your trip using the matching dates from the previous year \n",
    "#(i.e. use \"2017-01-01\" if your trip start date was \"2018-01-01\")\n",
    "trip_start = dt.date(2018,8,10)\n",
    "trip_end = dt.date(2018,8,30)\n",
    "trip_start_last_year = trip_start - dt.timedelta(days=365)\n",
    "trip_end_last_year = trip_end - dt.timedelta(days=365)\n",
    "\n",
    "trip_avg_last_year = calc_temps(trip_start_last_year, trip_end_last_year)\n",
    "print(trip_avg_last_year)\n",
    "print(len(trip_avg_last_year))"
   ]
  },
  {
   "cell_type": "code",
   "execution_count": 27,
   "metadata": {
    "collapsed": false
   },
   "outputs": [
    {
     "data": {
      "text/html": [
       "<div>\n",
       "<style scoped>\n",
       "    .dataframe tbody tr th:only-of-type {\n",
       "        vertical-align: middle;\n",
       "    }\n",
       "\n",
       "    .dataframe tbody tr th {\n",
       "        vertical-align: top;\n",
       "    }\n",
       "\n",
       "    .dataframe thead th {\n",
       "        text-align: right;\n",
       "    }\n",
       "</style>\n",
       "<table border=\"1\" class=\"dataframe\">\n",
       "  <thead>\n",
       "    <tr style=\"text-align: right;\">\n",
       "      <th></th>\n",
       "      <th>tmin</th>\n",
       "      <th>avg</th>\n",
       "      <th>tmax</th>\n",
       "    </tr>\n",
       "  </thead>\n",
       "  <tbody>\n",
       "    <tr>\n",
       "      <th>0</th>\n",
       "      <td>70</td>\n",
       "      <td>78.6</td>\n",
       "      <td>84</td>\n",
       "    </tr>\n",
       "  </tbody>\n",
       "</table>\n",
       "</div>"
      ],
      "text/plain": [
       "   tmin   avg  tmax\n",
       "0    70  78.6    84"
      ]
     },
     "execution_count": 27,
     "metadata": {},
     "output_type": "execute_result"
    }
   ],
   "source": [
    "avg_df = pd.DataFrame({'tmin': [trip_avg_last_year[0][0]], 'avg': [trip_avg_last_year[0][1]], 'tmax': [trip_avg_last_year[0][2]]}, columns=['tmin','avg', 'tmax'])\n",
    "avg_df\n"
   ]
  },
  {
   "cell_type": "code",
   "execution_count": 28,
   "metadata": {
    "collapsed": false
   },
   "outputs": [
    {
     "data": {
      "image/png": "[encoded data removed]",
      "text/plain": [
       "<matplotlib.figure.Figure at 0x10552b898>"
      ]
     },
     "metadata": {},
     "output_type": "display_data"
    }
   ],
   "source": [
    "#Plot the min, avg, and max temperature from your previous query as a bar chart.\n",
    "#Use the average temperature as the bar height.Use the peak-to-peak (tmax-tmin) value as the y error bar (yerr).\n",
    "\n",
    "#x = range(0, len(trip_avg_last_year))\n",
    "error = avg_df[\"tmax\"].sub(avg_df['tmin'])\n",
    "avg_df.plot.bar(y = 'avg',  yerr=error, align='center', color='orange')\n",
    "plt.title(\"Trip Avg Temp\")\n",
    "plt.xlabel(\"Temp(F)\")\n",
    "plt.show()\n",
    "        "
   ]
  },
  {
   "cell_type": "code",
   "execution_count": null,
   "metadata": {
    "collapsed": true
   },
   "outputs": [],
   "source": []
  },
  {
   "cell_type": "code",
   "execution_count": null,
   "metadata": {
    "collapsed": true
   },
   "outputs": [],
   "source": []
  }
 ],
 "metadata": {
  "anaconda-cloud": {},
  "kernelspec": {
   "display_name": "Python [conda env:PythonData]",
   "language": "python",
   "name": "conda-env-PythonData-py"
  },
  "language_info": {
   "codemirror_mode": {
    "name": "ipython",
    "version": 3
   },
   "file_extension": ".py",
   "mimetype": "text/x-python",
   "name": "python",
   "nbconvert_exporter": "python",
   "pygments_lexer": "ipython3",
   "version": "3.6.4"
  }
 },
 "nbformat": 4,
 "nbformat_minor": 1
}
